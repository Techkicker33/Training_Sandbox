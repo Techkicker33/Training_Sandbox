{
 "cells": [
  {
   "cell_type": "code",
   "execution_count": null,
   "id": "c68ea006",
   "metadata": {},
   "outputs": [],
   "source": [
    "#y = x tan(θ) - (g * x²) / (2 * u² * cos²(θ))\n",
    "\n",
    "import math"
   ]
  },
  {
   "cell_type": "markdown",
   "id": "c7f50323",
   "metadata": {},
   "source": [
    "To generate a parabolic trajectory grapher tool.\n",
    "\n",
    "To break the code down into parts:\n",
    "\n",
    "-Base function\n",
    "\n",
    "-User Inputs for angle, speed, distance\n",
    "\n",
    "-Graph results\n",
    "\n",
    "-***bonus***: Generate GUI for user inputs."
   ]
  },
  {
   "cell_type": "code",
   "execution_count": null,
   "id": "dcef7193",
   "metadata": {},
   "outputs": [
    {
     "name": "stdout",
     "output_type": "stream",
     "text": [
      "50.76158249763249\n"
     ]
    }
   ],
   "source": [
    "initialXPos=0 #initial launch point\n",
    "initialYPos=0 #initial launch point\n",
    "\n",
    "currentXPos=int(input('Enter in meters the horiontal position: \\n')) #meters\n",
    "\n",
    "gravity=9.81 #m/s^2\n",
    "launchAngle=int(input(\"Enter the trajectory angle in degrees: \")) #degrees\n",
    "velocity=int(input(\"Enter the initial velocity in m/s: \")) #m/s Initial Speed\n",
    "\n",
    "currentYPos= currentXPos * math.tan(launchAngle)-(gravity*(currentXPos**2))/(2*(velocity**2)*(math.cos(launchAngle)**2)) #meters\n",
    "\n",
    "print(currentYPos)\n",
    "\n"
   ]
  },
  {
   "cell_type": "code",
   "execution_count": null,
   "id": "b6aed0e0",
   "metadata": {},
   "outputs": [],
   "source": []
  }
 ],
 "metadata": {
  "kernelspec": {
   "display_name": "Python 3",
   "language": "python",
   "name": "python3"
  },
  "language_info": {
   "codemirror_mode": {
    "name": "ipython",
    "version": 3
   },
   "file_extension": ".py",
   "mimetype": "text/x-python",
   "name": "python",
   "nbconvert_exporter": "python",
   "pygments_lexer": "ipython3",
   "version": "3.13.2"
  }
 },
 "nbformat": 4,
 "nbformat_minor": 5
}
