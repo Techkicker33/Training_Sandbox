{
 "cells": [
  {
   "cell_type": "code",
   "execution_count": 18,
   "id": "c68ea006",
   "metadata": {},
   "outputs": [],
   "source": [
    "#y = x tan(θ) - (g * x²) / (2 * u² * cos²(θ))\n",
    "#x=v0*t*cos(angle)\n",
    "#y= v0*t*sin(angle)-(1/2)*g*t^2\n",
    "\n",
    "import math\n",
    "gravity=9.81 #m/s^2"
   ]
  },
  {
   "cell_type": "markdown",
   "id": "c7f50323",
   "metadata": {},
   "source": [
    "To generate a parabolic trajectory grapher tool.\n",
    "\n",
    "To break the code down into parts:\n",
    "\n",
    "-Base function\n",
    "\n",
    "-User Inputs for angle, speed, distance\n",
    "\n",
    "-Graph results\n",
    "\n",
    "-***bonus***: Generate GUI for user inputs."
   ]
  },
  {
   "cell_type": "code",
   "execution_count": null,
   "id": "dcef7193",
   "metadata": {},
   "outputs": [
    {
     "name": "stdout",
     "output_type": "stream",
     "text": [
      "Currrent X position: 945.5795798719136 and current Y position: 1409.0013441614133\n"
     ]
    }
   ],
   "source": [
    "initialXPos=0 #initial launch point\n",
    "initialYPos=0 #initial launch point\n",
    "t=0\n",
    "\n",
    "t=int(input(\"Enter the number of seconds to track: \"))\n",
    "launchAngle=int(input(\"Enter the trajectory angle in degrees: \")) #degrees\n",
    "velocity=int(input(\"Enter the initial velocity in m/s: \")) #m/s Initial Speed\n",
    "\n",
    "currentXPos=velocity*t*math.cos(launchAngle) #meters\n",
    "currentYPos= velocity*t*math.sin(launchAngle)-((0.5)*gravity*t**2) #meters\n",
    "\n",
    "print(f'Current X position: {currentXPos} and current Y position: {currentYPos} given the angle of {launchAngle} degrees and velocity {velocity} m/s')\n",
    "\n"
   ]
  },
  {
   "cell_type": "code",
   "execution_count": null,
   "id": "b6aed0e0",
   "metadata": {},
   "outputs": [],
   "source": []
  }
 ],
 "metadata": {
  "kernelspec": {
   "display_name": "Python 3",
   "language": "python",
   "name": "python3"
  },
  "language_info": {
   "codemirror_mode": {
    "name": "ipython",
    "version": 3
   },
   "file_extension": ".py",
   "mimetype": "text/x-python",
   "name": "python",
   "nbconvert_exporter": "python",
   "pygments_lexer": "ipython3",
   "version": "3.13.2"
  }
 },
 "nbformat": 4,
 "nbformat_minor": 5
}
