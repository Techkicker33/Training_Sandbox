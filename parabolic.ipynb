{
 "cells": [
  {
   "cell_type": "code",
   "execution_count": null,
   "id": "c68ea006",
   "metadata": {},
   "outputs": [],
   "source": [
    "#y = x tan(θ) - (g * x²) / (2 * u² * cos²(θ))\n",
    "\n",
    "import math"
   ]
  },
  {
   "cell_type": "markdown",
   "id": "c7f50323",
   "metadata": {},
   "source": [
    "To generate a parabolic trajectory grapher tool.\n",
    "\n",
    "To break the code down into parts:\n",
    "Base function\n",
    "User Inputs for angle, speed, distance\n",
    "Graph results\n",
    "***bonus***: Generate GUI for user inputs."
   ]
  },
  {
   "cell_type": "code",
   "execution_count": null,
   "id": "dcef7193",
   "metadata": {},
   "outputs": [
    {
     "name": "stdout",
     "output_type": "stream",
     "text": [
      "-86.935368846438\n"
     ]
    }
   ],
   "source": [
    "xPos=10\n",
    "#yPos=0\n",
    "g=9.8 #m/s^2\n",
    "angle=25 #degrees\n",
    "u=30 #m/s Initial Speed\n",
    "\n",
    "yPos= xPos * math.tan(angle)-(g*xPos**2)/(2*u**2*math.cos(angle)**2)\n",
    "\n",
    "print(yPos)\n",
    "\n"
   ]
  },
  {
   "cell_type": "code",
   "execution_count": null,
   "id": "b6aed0e0",
   "metadata": {},
   "outputs": [],
   "source": []
  }
 ],
 "metadata": {
  "kernelspec": {
   "display_name": "Python 3",
   "language": "python",
   "name": "python3"
  },
  "language_info": {
   "codemirror_mode": {
    "name": "ipython",
    "version": 3
   },
   "file_extension": ".py",
   "mimetype": "text/x-python",
   "name": "python",
   "nbconvert_exporter": "python",
   "pygments_lexer": "ipython3",
   "version": "3.13.2"
  }
 },
 "nbformat": 4,
 "nbformat_minor": 5
}
